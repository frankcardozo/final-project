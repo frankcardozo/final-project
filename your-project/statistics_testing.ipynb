{
 "cells": [
  {
   "cell_type": "code",
   "execution_count": 1,
   "metadata": {},
   "outputs": [],
   "source": [
    "import scipy\n",
    "import numpy as np\n",
    "import pandas as pd\n",
    "from scipy import stats\n",
    "import matplotlib.pyplot as plt\n",
    "import seaborn as sns\n",
    "from scipy.stats import ttest_ind # library for hipothesis testing"
   ]
  },
  {
   "cell_type": "markdown",
   "metadata": {},
   "source": [
    "The aim of this study is to study stock price trend btween two different stocks- IBM and ORACLE. For this study I will collect a sample when IBM stock suffer from a drop and check if it also happens to Oracle. I will use a t-student independent test."
   ]
  },
  {
   "cell_type": "markdown",
   "metadata": {},
   "source": [
    "# Importing oracle stocks and preparing data"
   ]
  },
  {
   "cell_type": "code",
   "execution_count": 2,
   "metadata": {},
   "outputs": [
    {
     "data": {
      "text/html": [
       "<div>\n",
       "<style scoped>\n",
       "    .dataframe tbody tr th:only-of-type {\n",
       "        vertical-align: middle;\n",
       "    }\n",
       "\n",
       "    .dataframe tbody tr th {\n",
       "        vertical-align: top;\n",
       "    }\n",
       "\n",
       "    .dataframe thead th {\n",
       "        text-align: right;\n",
       "    }\n",
       "</style>\n",
       "<table border=\"1\" class=\"dataframe\">\n",
       "  <thead>\n",
       "    <tr style=\"text-align: right;\">\n",
       "      <th></th>\n",
       "      <th>Date</th>\n",
       "      <th>Open</th>\n",
       "      <th>High</th>\n",
       "      <th>Low</th>\n",
       "      <th>Close</th>\n",
       "      <th>Volume</th>\n",
       "    </tr>\n",
       "  </thead>\n",
       "  <tbody>\n",
       "    <tr>\n",
       "      <td>0</td>\n",
       "      <td>1986-03-12</td>\n",
       "      <td>0.063272</td>\n",
       "      <td>0.064043</td>\n",
       "      <td>0.063272</td>\n",
       "      <td>0.063272</td>\n",
       "      <td>393012000</td>\n",
       "    </tr>\n",
       "    <tr>\n",
       "      <td>1</td>\n",
       "      <td>1986-03-13</td>\n",
       "      <td>0.064815</td>\n",
       "      <td>0.065586</td>\n",
       "      <td>0.064815</td>\n",
       "      <td>0.064815</td>\n",
       "      <td>125290800</td>\n",
       "    </tr>\n",
       "    <tr>\n",
       "      <td>2</td>\n",
       "      <td>1986-03-14</td>\n",
       "      <td>0.067130</td>\n",
       "      <td>0.067901</td>\n",
       "      <td>0.067130</td>\n",
       "      <td>0.067130</td>\n",
       "      <td>57866400</td>\n",
       "    </tr>\n",
       "    <tr>\n",
       "      <td>3</td>\n",
       "      <td>1986-03-17</td>\n",
       "      <td>0.066358</td>\n",
       "      <td>0.066358</td>\n",
       "      <td>0.065586</td>\n",
       "      <td>0.065586</td>\n",
       "      <td>28285200</td>\n",
       "    </tr>\n",
       "    <tr>\n",
       "      <td>4</td>\n",
       "      <td>1986-03-18</td>\n",
       "      <td>0.064815</td>\n",
       "      <td>0.064815</td>\n",
       "      <td>0.064043</td>\n",
       "      <td>0.064043</td>\n",
       "      <td>32335200</td>\n",
       "    </tr>\n",
       "  </tbody>\n",
       "</table>\n",
       "</div>"
      ],
      "text/plain": [
       "        Date      Open      High       Low     Close     Volume\n",
       "0 1986-03-12  0.063272  0.064043  0.063272  0.063272  393012000\n",
       "1 1986-03-13  0.064815  0.065586  0.064815  0.064815  125290800\n",
       "2 1986-03-14  0.067130  0.067901  0.067130  0.067130   57866400\n",
       "3 1986-03-17  0.066358  0.066358  0.065586  0.065586   28285200\n",
       "4 1986-03-18  0.064815  0.064815  0.064043  0.064043   32335200"
      ]
     },
     "execution_count": 2,
     "metadata": {},
     "output_type": "execute_result"
    }
   ],
   "source": [
    "orcl = pd.read_csv('ORCL.csv')\n",
    "orcl.drop('Adj Close', axis = 1, inplace=True)\n",
    "orcl['Date'] = pd.to_datetime(orcl['Date'])\n",
    "orcl.head()"
   ]
  },
  {
   "cell_type": "code",
   "execution_count": 3,
   "metadata": {},
   "outputs": [
    {
     "data": {
      "text/plain": [
       "Date      datetime64[ns]\n",
       "Open             float64\n",
       "High             float64\n",
       "Low              float64\n",
       "Close            float64\n",
       "Volume             int64\n",
       "dtype: object"
      ]
     },
     "execution_count": 3,
     "metadata": {},
     "output_type": "execute_result"
    }
   ],
   "source": [
    "orcl.dtypes"
   ]
  },
  {
   "cell_type": "code",
   "execution_count": 4,
   "metadata": {},
   "outputs": [
    {
     "data": {
      "text/html": [
       "<div>\n",
       "<style scoped>\n",
       "    .dataframe tbody tr th:only-of-type {\n",
       "        vertical-align: middle;\n",
       "    }\n",
       "\n",
       "    .dataframe tbody tr th {\n",
       "        vertical-align: top;\n",
       "    }\n",
       "\n",
       "    .dataframe thead th {\n",
       "        text-align: right;\n",
       "    }\n",
       "</style>\n",
       "<table border=\"1\" class=\"dataframe\">\n",
       "  <thead>\n",
       "    <tr style=\"text-align: right;\">\n",
       "      <th></th>\n",
       "      <th>Date</th>\n",
       "      <th>Open</th>\n",
       "      <th>High</th>\n",
       "      <th>Low</th>\n",
       "      <th>Close</th>\n",
       "      <th>Volume</th>\n",
       "    </tr>\n",
       "  </thead>\n",
       "  <tbody>\n",
       "    <tr>\n",
       "      <td>0</td>\n",
       "      <td>1962-01-02</td>\n",
       "      <td>7.713333</td>\n",
       "      <td>7.713333</td>\n",
       "      <td>7.626667</td>\n",
       "      <td>7.626667</td>\n",
       "      <td>387200</td>\n",
       "    </tr>\n",
       "    <tr>\n",
       "      <td>1</td>\n",
       "      <td>1962-01-03</td>\n",
       "      <td>7.626667</td>\n",
       "      <td>7.693333</td>\n",
       "      <td>7.626667</td>\n",
       "      <td>7.693333</td>\n",
       "      <td>288000</td>\n",
       "    </tr>\n",
       "    <tr>\n",
       "      <td>2</td>\n",
       "      <td>1962-01-04</td>\n",
       "      <td>7.693333</td>\n",
       "      <td>7.693333</td>\n",
       "      <td>7.613333</td>\n",
       "      <td>7.616667</td>\n",
       "      <td>256000</td>\n",
       "    </tr>\n",
       "    <tr>\n",
       "      <td>3</td>\n",
       "      <td>1962-01-05</td>\n",
       "      <td>7.606667</td>\n",
       "      <td>7.606667</td>\n",
       "      <td>7.453333</td>\n",
       "      <td>7.466667</td>\n",
       "      <td>363200</td>\n",
       "    </tr>\n",
       "    <tr>\n",
       "      <td>4</td>\n",
       "      <td>1962-01-08</td>\n",
       "      <td>7.460000</td>\n",
       "      <td>7.460000</td>\n",
       "      <td>7.266667</td>\n",
       "      <td>7.326667</td>\n",
       "      <td>544000</td>\n",
       "    </tr>\n",
       "  </tbody>\n",
       "</table>\n",
       "</div>"
      ],
      "text/plain": [
       "        Date      Open      High       Low     Close  Volume\n",
       "0 1962-01-02  7.713333  7.713333  7.626667  7.626667  387200\n",
       "1 1962-01-03  7.626667  7.693333  7.626667  7.693333  288000\n",
       "2 1962-01-04  7.693333  7.693333  7.613333  7.616667  256000\n",
       "3 1962-01-05  7.606667  7.606667  7.453333  7.466667  363200\n",
       "4 1962-01-08  7.460000  7.460000  7.266667  7.326667  544000"
      ]
     },
     "execution_count": 4,
     "metadata": {},
     "output_type": "execute_result"
    }
   ],
   "source": [
    "ibm = pd.read_csv('IBM_clean.csv')\n",
    "ibm['Date'] = pd.to_datetime(ibm['Date'])\n",
    "ibm.head()"
   ]
  },
  {
   "cell_type": "code",
   "execution_count": 5,
   "metadata": {},
   "outputs": [
    {
     "data": {
      "text/plain": [
       "Date      datetime64[ns]\n",
       "Open             float64\n",
       "High             float64\n",
       "Low              float64\n",
       "Close            float64\n",
       "Volume             int64\n",
       "dtype: object"
      ]
     },
     "execution_count": 5,
     "metadata": {},
     "output_type": "execute_result"
    }
   ],
   "source": [
    "ibm.dtypes"
   ]
  },
  {
   "cell_type": "markdown",
   "metadata": {},
   "source": [
    "# Selecting period of drops in each stock price"
   ]
  },
  {
   "cell_type": "code",
   "execution_count": 6,
   "metadata": {},
   "outputs": [],
   "source": [
    "orcl1 = orcl[(orcl['Date'] > '2015-05-01') & (orcl['Date'] < '2016-02-17')]"
   ]
  },
  {
   "cell_type": "code",
   "execution_count": 7,
   "metadata": {},
   "outputs": [],
   "source": [
    "orcl1 = orcl1.set_index('Date')"
   ]
  },
  {
   "cell_type": "code",
   "execution_count": 8,
   "metadata": {},
   "outputs": [
    {
     "data": {
      "image/png": "[encoded data removed]",
      "text/plain": [
       "<Figure size 576x504 with 1 Axes>"
      ]
     },
     "metadata": {
      "needs_background": "light"
     },
     "output_type": "display_data"
    }
   ],
   "source": [
    "plt.title('ORCL Stock Price', fontsize= 17)\n",
    "plt.xlabel('Date')\n",
    "plt.ylabel('Stock price ($)')\n",
    "\n",
    "orcl1['Close'].resample('MS').mean().plot(figsize=(8, 7))\n",
    "\n",
    "plt.savefig('ORCL_stats.jpg', bbox_inches = 'tight', transparent = True)\n",
    "plt.show()"
   ]
  },
  {
   "cell_type": "code",
   "execution_count": 9,
   "metadata": {},
   "outputs": [],
   "source": [
    "ibm1 = ibm[(ibm['Date'] > '2015-05-01') & (ibm['Date'] < '2016-02-17')]"
   ]
  },
  {
   "cell_type": "code",
   "execution_count": 10,
   "metadata": {},
   "outputs": [],
   "source": [
    "ibm1 = ibm1.set_index('Date')"
   ]
  },
  {
   "cell_type": "code",
   "execution_count": 11,
   "metadata": {},
   "outputs": [
    {
     "data": {
      "image/png": "[encoded data removed]",
      "text/plain": [
       "<Figure size 576x504 with 1 Axes>"
      ]
     },
     "metadata": {
      "needs_background": "light"
     },
     "output_type": "display_data"
    }
   ],
   "source": [
    "plt.title('IBM Stock Price', fontsize= 17)\n",
    "plt.xlabel('Date')\n",
    "plt.ylabel('Stock price ($)')\n",
    "\n",
    "ibm1['Close'].resample('MS').mean().plot(figsize=(8, 7))\n",
    "\n",
    "plt.savefig('IBM_stats.jpg', bbox_inches = 'tight', transparent = True)\n",
    "plt.show()"
   ]
  },
  {
   "cell_type": "markdown",
   "metadata": {},
   "source": [
    "# t-Test (oracle and IBM stocks)"
   ]
  },
  {
   "cell_type": "code",
   "execution_count": 12,
   "metadata": {},
   "outputs": [],
   "source": [
    "from scipy.stats import ttest_ind "
   ]
  },
  {
   "cell_type": "code",
   "execution_count": 13,
   "metadata": {},
   "outputs": [
    {
     "name": "stdout",
     "output_type": "stream",
     "text": [
      "137.97965769230763 8.389627492969888\n",
      "37.13829054700856 1.6024938144463627\n"
     ]
    }
   ],
   "source": [
    "print(ibm1['Close'][82:].mean(), ibm1['Close'][82:].std())\n",
    "print(orcl1['Close'][82:].mean(),orcl1['Close'][82:].std())"
   ]
  },
  {
   "cell_type": "code",
   "execution_count": 41,
   "metadata": {},
   "outputs": [
    {
     "data": {
      "text/plain": [
       "Ttest_indResult(statistic=127.70490838372433, pvalue=5.842528734640816e-217)"
      ]
     },
     "execution_count": 41,
     "metadata": {},
     "output_type": "execute_result"
    }
   ],
   "source": [
    "ttest_ind(ibm1['Close'][82:], orcl1['Close'][82:], equal_var=True)"
   ]
  },
  {
   "cell_type": "markdown",
   "metadata": {},
   "source": [
    "The p-value is extremely low (<0.05), so we reject the null hypothesis that the mean of the two stocks are equal and accept that they might be different."
   ]
  },
  {
   "cell_type": "markdown",
   "metadata": {},
   "source": [
    "# t-Test (tweets sentiments and IBM stocks)"
   ]
  },
  {
   "cell_type": "code",
   "execution_count": 15,
   "metadata": {},
   "outputs": [],
   "source": [
    "ds = pd.read_csv('ml_data.csv')\n",
    "ds['Date'] = pd.to_datetime(ds['Date'])"
   ]
  },
  {
   "cell_type": "code",
   "execution_count": 16,
   "metadata": {},
   "outputs": [],
   "source": [
    "ds_t = ds[(ds['Date'] > '2015-08-31') & (ds['Date'] < '2016-02-17')]"
   ]
  },
  {
   "cell_type": "code",
   "execution_count": 17,
   "metadata": {},
   "outputs": [],
   "source": [
    "ds_t = ds_t.set_index('Date')"
   ]
  },
  {
   "cell_type": "code",
   "execution_count": 19,
   "metadata": {},
   "outputs": [
    {
     "name": "stdout",
     "output_type": "stream",
     "text": [
      "127.81939421212122 6.165510691464478\n",
      "0.388 0.39065864735085537\n"
     ]
    }
   ],
   "source": [
    "print(ds_t['Close'][82:].mean(), ds_t['Close'][82:].std())\n",
    "print(ds_t['compound'][82:].mean(), ds_t['compound'][82:].std())"
   ]
  },
  {
   "cell_type": "code",
   "execution_count": 40,
   "metadata": {},
   "outputs": [
    {
     "data": {
      "text/plain": [
       "Ttest_indResult(statistic=118.49343963064668, pvalue=1.0380823170964858e-76)"
      ]
     },
     "execution_count": 40,
     "metadata": {},
     "output_type": "execute_result"
    }
   ],
   "source": [
    "ttest_ind(ds_t['Close'][82:], ds_t['compound'][82:], equal_var=True)"
   ]
  },
  {
   "cell_type": "markdown",
   "metadata": {},
   "source": [
    "Null hypothesis: there is no significant difference between sample Mean of stocks and sentiment polarity means."
   ]
  },
  {
   "cell_type": "markdown",
   "metadata": {},
   "source": [
    "We can reject the null hypothesis. P < 0.05. We accept H1 that assumes that there is some difference between the true mean of stocks and the sentiment mean."
   ]
  },
  {
   "cell_type": "markdown",
   "metadata": {},
   "source": [
    "# Chi test"
   ]
  },
  {
   "cell_type": "code",
   "execution_count": 36,
   "metadata": {},
   "outputs": [],
   "source": [
    "import scipy\n",
    "from scipy import stats\n",
    "from scipy.stats import chi2"
   ]
  },
  {
   "cell_type": "code",
   "execution_count": 37,
   "metadata": {},
   "outputs": [],
   "source": [
    "observed_values = ibm1['Close'][82:]\n",
    "expected_values = orcl1['Close'][82:]"
   ]
  },
  {
   "cell_type": "code",
   "execution_count": 38,
   "metadata": {},
   "outputs": [
    {
     "name": "stdout",
     "output_type": "stream",
     "text": [
      "Null hypothesis rejected\n"
     ]
    }
   ],
   "source": [
    "chi = sum((observed_values - expected_values)**2 / expected_values)   # fill with code and data\n",
    "dof = 98\n",
    "\n",
    "alpha = 0.05\n",
    "\n",
    "critical_value = chi2.ppf(q = 1 - alpha, df = dof)   # ppf: Percent Point Function\n",
    "print(\"Null hypothesis rejected\") if critical_value < chi else print(\"Null hypothesis can't be rejected\")"
   ]
  }
 ],
 "metadata": {
  "kernelspec": {
   "display_name": "Python 3",
   "language": "python",
   "name": "python3"
  },
  "language_info": {
   "codemirror_mode": {
    "name": "ipython",
    "version": 3
   },
   "file_extension": ".py",
   "mimetype": "text/x-python",
   "name": "python",
   "nbconvert_exporter": "python",
   "pygments_lexer": "ipython3",
   "version": "3.7.4"
  }
 },
 "nbformat": 4,
 "nbformat_minor": 2
}
