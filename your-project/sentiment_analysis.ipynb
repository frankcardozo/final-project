{
 "cells": [
  {
   "cell_type": "code",
   "execution_count": 1,
   "metadata": {},
   "outputs": [],
   "source": [
    "import pandas as pd\n",
    "import numpy as np\n",
    "import seaborn as sns\n",
    "import matplotlib.pyplot as plt\n",
    "\n",
    "pd.set_option('display.max_rows', 500000)\n",
    "pd.set_option('display.max_columns', 1000000)\n",
    "pd.set_option('display.width', 100000)"
   ]
  },
  {
   "cell_type": "code",
   "execution_count": 2,
   "metadata": {},
   "outputs": [],
   "source": [
    "#importing datasets\n",
    "tweets=pd.read_csv('tweets.csv')\n",
    "tweets.drop(['Tweet_processed'], axis = 1, inplace=True)\n",
    "tweets['Date']=pd.to_datetime(tweets['Date'])"
   ]
  },
  {
   "cell_type": "code",
   "execution_count": 3,
   "metadata": {},
   "outputs": [
    {
     "data": {
      "text/plain": [
       "Date     datetime64[ns]\n",
       "Tweet            object\n",
       "dtype: object"
      ]
     },
     "execution_count": 3,
     "metadata": {},
     "output_type": "execute_result"
    }
   ],
   "source": [
    "tweets.dtypes"
   ]
  },
  {
   "cell_type": "code",
   "execution_count": 4,
   "metadata": {},
   "outputs": [
    {
     "data": {
      "text/html": [
       "<div>\n",
       "<style scoped>\n",
       "    .dataframe tbody tr th:only-of-type {\n",
       "        vertical-align: middle;\n",
       "    }\n",
       "\n",
       "    .dataframe tbody tr th {\n",
       "        vertical-align: top;\n",
       "    }\n",
       "\n",
       "    .dataframe thead th {\n",
       "        text-align: right;\n",
       "    }\n",
       "</style>\n",
       "<table border=\"1\" class=\"dataframe\">\n",
       "  <thead>\n",
       "    <tr style=\"text-align: right;\">\n",
       "      <th></th>\n",
       "      <th>Date</th>\n",
       "      <th>Open</th>\n",
       "      <th>High</th>\n",
       "      <th>Low</th>\n",
       "      <th>Close</th>\n",
       "      <th>Volume</th>\n",
       "    </tr>\n",
       "  </thead>\n",
       "  <tbody>\n",
       "    <tr>\n",
       "      <td>14582</td>\n",
       "      <td>2019-12-05</td>\n",
       "      <td>132.990005</td>\n",
       "      <td>133.240005</td>\n",
       "      <td>131.630005</td>\n",
       "      <td>131.910004</td>\n",
       "      <td>3595400</td>\n",
       "    </tr>\n",
       "    <tr>\n",
       "      <td>14583</td>\n",
       "      <td>2019-12-06</td>\n",
       "      <td>132.750000</td>\n",
       "      <td>133.889999</td>\n",
       "      <td>132.699997</td>\n",
       "      <td>133.220001</td>\n",
       "      <td>3437500</td>\n",
       "    </tr>\n",
       "    <tr>\n",
       "      <td>14584</td>\n",
       "      <td>2019-12-09</td>\n",
       "      <td>133.350006</td>\n",
       "      <td>134.589996</td>\n",
       "      <td>133.259995</td>\n",
       "      <td>133.919998</td>\n",
       "      <td>2968500</td>\n",
       "    </tr>\n",
       "    <tr>\n",
       "      <td>14585</td>\n",
       "      <td>2019-12-10</td>\n",
       "      <td>133.919998</td>\n",
       "      <td>134.839996</td>\n",
       "      <td>133.559998</td>\n",
       "      <td>133.910004</td>\n",
       "      <td>3480400</td>\n",
       "    </tr>\n",
       "    <tr>\n",
       "      <td>14586</td>\n",
       "      <td>2019-12-11</td>\n",
       "      <td>134.110001</td>\n",
       "      <td>134.509995</td>\n",
       "      <td>133.669998</td>\n",
       "      <td>133.759995</td>\n",
       "      <td>3953300</td>\n",
       "    </tr>\n",
       "  </tbody>\n",
       "</table>\n",
       "</div>"
      ],
      "text/plain": [
       "            Date        Open        High         Low       Close   Volume\n",
       "14582 2019-12-05  132.990005  133.240005  131.630005  131.910004  3595400\n",
       "14583 2019-12-06  132.750000  133.889999  132.699997  133.220001  3437500\n",
       "14584 2019-12-09  133.350006  134.589996  133.259995  133.919998  2968500\n",
       "14585 2019-12-10  133.919998  134.839996  133.559998  133.910004  3480400\n",
       "14586 2019-12-11  134.110001  134.509995  133.669998  133.759995  3953300"
      ]
     },
     "execution_count": 4,
     "metadata": {},
     "output_type": "execute_result"
    }
   ],
   "source": [
    "IBM=pd.read_csv('IBM_clean.csv')\n",
    "IBM['Date']=pd.to_datetime(IBM['Date'])\n",
    "IBM.tail()"
   ]
  },
  {
   "cell_type": "code",
   "execution_count": 5,
   "metadata": {},
   "outputs": [
    {
     "data": {
      "text/plain": [
       "Date      datetime64[ns]\n",
       "Open             float64\n",
       "High             float64\n",
       "Low              float64\n",
       "Close            float64\n",
       "Volume             int64\n",
       "dtype: object"
      ]
     },
     "execution_count": 5,
     "metadata": {},
     "output_type": "execute_result"
    }
   ],
   "source": [
    "IBM.dtypes"
   ]
  },
  {
   "cell_type": "code",
   "execution_count": 6,
   "metadata": {},
   "outputs": [],
   "source": [
    "merged = IBM.merge(tweets, on='Date', how = 'outer')"
   ]
  },
  {
   "cell_type": "code",
   "execution_count": 8,
   "metadata": {},
   "outputs": [
    {
     "data": {
      "text/html": [
       "<div>\n",
       "<style scoped>\n",
       "    .dataframe tbody tr th:only-of-type {\n",
       "        vertical-align: middle;\n",
       "    }\n",
       "\n",
       "    .dataframe tbody tr th {\n",
       "        vertical-align: top;\n",
       "    }\n",
       "\n",
       "    .dataframe thead th {\n",
       "        text-align: right;\n",
       "    }\n",
       "</style>\n",
       "<table border=\"1\" class=\"dataframe\">\n",
       "  <thead>\n",
       "    <tr style=\"text-align: right;\">\n",
       "      <th></th>\n",
       "      <th>Date</th>\n",
       "      <th>Open</th>\n",
       "      <th>High</th>\n",
       "      <th>Low</th>\n",
       "      <th>Close</th>\n",
       "      <th>Volume</th>\n",
       "      <th>Tweet</th>\n",
       "    </tr>\n",
       "  </thead>\n",
       "  <tbody>\n",
       "    <tr>\n",
       "      <td>0</td>\n",
       "      <td>1962-01-02</td>\n",
       "      <td>7.713333</td>\n",
       "      <td>7.713333</td>\n",
       "      <td>7.626667</td>\n",
       "      <td>7.626667</td>\n",
       "      <td>387200.0</td>\n",
       "      <td>NaN</td>\n",
       "    </tr>\n",
       "    <tr>\n",
       "      <td>1</td>\n",
       "      <td>1962-01-03</td>\n",
       "      <td>7.626667</td>\n",
       "      <td>7.693333</td>\n",
       "      <td>7.626667</td>\n",
       "      <td>7.693333</td>\n",
       "      <td>288000.0</td>\n",
       "      <td>NaN</td>\n",
       "    </tr>\n",
       "    <tr>\n",
       "      <td>2</td>\n",
       "      <td>1962-01-04</td>\n",
       "      <td>7.693333</td>\n",
       "      <td>7.693333</td>\n",
       "      <td>7.613333</td>\n",
       "      <td>7.616667</td>\n",
       "      <td>256000.0</td>\n",
       "      <td>NaN</td>\n",
       "    </tr>\n",
       "    <tr>\n",
       "      <td>3</td>\n",
       "      <td>1962-01-05</td>\n",
       "      <td>7.606667</td>\n",
       "      <td>7.606667</td>\n",
       "      <td>7.453333</td>\n",
       "      <td>7.466667</td>\n",
       "      <td>363200.0</td>\n",
       "      <td>NaN</td>\n",
       "    </tr>\n",
       "    <tr>\n",
       "      <td>4</td>\n",
       "      <td>1962-01-08</td>\n",
       "      <td>7.460000</td>\n",
       "      <td>7.460000</td>\n",
       "      <td>7.266667</td>\n",
       "      <td>7.326667</td>\n",
       "      <td>544000.0</td>\n",
       "      <td>NaN</td>\n",
       "    </tr>\n",
       "  </tbody>\n",
       "</table>\n",
       "</div>"
      ],
      "text/plain": [
       "        Date      Open      High       Low     Close    Volume Tweet\n",
       "0 1962-01-02  7.713333  7.713333  7.626667  7.626667  387200.0   NaN\n",
       "1 1962-01-03  7.626667  7.693333  7.626667  7.693333  288000.0   NaN\n",
       "2 1962-01-04  7.693333  7.693333  7.613333  7.616667  256000.0   NaN\n",
       "3 1962-01-05  7.606667  7.606667  7.453333  7.466667  363200.0   NaN\n",
       "4 1962-01-08  7.460000  7.460000  7.266667  7.326667  544000.0   NaN"
      ]
     },
     "execution_count": 8,
     "metadata": {},
     "output_type": "execute_result"
    }
   ],
   "source": [
    "merged.head()"
   ]
  },
  {
   "cell_type": "code",
   "execution_count": 9,
   "metadata": {},
   "outputs": [
    {
     "data": {
      "text/plain": [
       "(14864, 7)"
      ]
     },
     "execution_count": 9,
     "metadata": {},
     "output_type": "execute_result"
    }
   ],
   "source": [
    "merged.shape"
   ]
  },
  {
   "cell_type": "code",
   "execution_count": 10,
   "metadata": {},
   "outputs": [],
   "source": [
    "# Cleaning rows that are duplicated\n",
    "merged = merged.drop(merged.index[np.where(merged.index >= 14587)[0]])"
   ]
  },
  {
   "cell_type": "code",
   "execution_count": 11,
   "metadata": {},
   "outputs": [],
   "source": [
    "# Filling missing tweets with a space\n",
    "merged['Tweet'] = merged['Tweet'].replace(np.nan, '', regex=True)"
   ]
  },
  {
   "cell_type": "code",
   "execution_count": 12,
   "metadata": {},
   "outputs": [
    {
     "data": {
      "text/plain": [
       "(14587, 7)"
      ]
     },
     "execution_count": 12,
     "metadata": {},
     "output_type": "execute_result"
    }
   ],
   "source": [
    "merged.shape"
   ]
  },
  {
   "cell_type": "code",
   "execution_count": 13,
   "metadata": {},
   "outputs": [],
   "source": [
    "merged['compound']=''\n",
    "merged['neg']=''\n",
    "merged['neu']=''\n",
    "merged['pos']=''"
   ]
  },
  {
   "cell_type": "code",
   "execution_count": 14,
   "metadata": {},
   "outputs": [],
   "source": [
    "from nltk.sentiment.vader import SentimentIntensityAnalyzer"
   ]
  },
  {
   "cell_type": "code",
   "execution_count": 15,
   "metadata": {},
   "outputs": [],
   "source": [
    "sia=SentimentIntensityAnalyzer()"
   ]
  },
  {
   "cell_type": "code",
   "execution_count": 16,
   "metadata": {},
   "outputs": [
    {
     "name": "stderr",
     "output_type": "stream",
     "text": [
      "/Applications/anaconda3/lib/python3.7/site-packages/ipykernel_launcher.py:4: SettingWithCopyWarning: \n",
      "A value is trying to be set on a copy of a slice from a DataFrame\n",
      "\n",
      "See the caveats in the documentation: http://pandas.pydata.org/pandas-docs/stable/user_guide/indexing.html#returning-a-view-versus-a-copy\n",
      "  after removing the cwd from sys.path.\n",
      "/Applications/anaconda3/lib/python3.7/site-packages/ipykernel_launcher.py:5: SettingWithCopyWarning: \n",
      "A value is trying to be set on a copy of a slice from a DataFrame\n",
      "\n",
      "See the caveats in the documentation: http://pandas.pydata.org/pandas-docs/stable/user_guide/indexing.html#returning-a-view-versus-a-copy\n",
      "  \"\"\"\n",
      "/Applications/anaconda3/lib/python3.7/site-packages/ipykernel_launcher.py:6: SettingWithCopyWarning: \n",
      "A value is trying to be set on a copy of a slice from a DataFrame\n",
      "\n",
      "See the caveats in the documentation: http://pandas.pydata.org/pandas-docs/stable/user_guide/indexing.html#returning-a-view-versus-a-copy\n",
      "  \n",
      "/Applications/anaconda3/lib/python3.7/site-packages/ipykernel_launcher.py:7: SettingWithCopyWarning: \n",
      "A value is trying to be set on a copy of a slice from a DataFrame\n",
      "\n",
      "See the caveats in the documentation: http://pandas.pydata.org/pandas-docs/stable/user_guide/indexing.html#returning-a-view-versus-a-copy\n",
      "  import sys\n"
     ]
    }
   ],
   "source": [
    "for index,sentence in enumerate(merged['Tweet']):\n",
    "    ps = sia.polarity_scores(sentence)\n",
    "    \n",
    "    merged['compound'][index] = ps['compound']\n",
    "    merged['neg'][index] = ps['neg']\n",
    "    merged['neu'][index] = ps['neu']\n",
    "    merged['pos'][index] = ps['pos']\n"
   ]
  },
  {
   "cell_type": "code",
   "execution_count": 17,
   "metadata": {},
   "outputs": [],
   "source": [
    "# removing tweets\n",
    "merged.drop('Tweet', axis=1, inplace=True)"
   ]
  },
  {
   "cell_type": "code",
   "execution_count": 18,
   "metadata": {},
   "outputs": [
    {
     "data": {
      "text/plain": [
       "Date        datetime64[ns]\n",
       "Open               float64\n",
       "High               float64\n",
       "Low                float64\n",
       "Close              float64\n",
       "Volume             float64\n",
       "compound            object\n",
       "neg                 object\n",
       "neu                 object\n",
       "pos                 object\n",
       "dtype: object"
      ]
     },
     "execution_count": 18,
     "metadata": {},
     "output_type": "execute_result"
    }
   ],
   "source": [
    "#converting types\n",
    "merged.dtypes"
   ]
  },
  {
   "cell_type": "code",
   "execution_count": 19,
   "metadata": {},
   "outputs": [],
   "source": [
    "merged['neu'] = pd.to_numeric(merged['neu'])\n",
    "merged['pos'] = pd.to_numeric(merged['pos'])\n",
    "merged['neg'] = pd.to_numeric(merged['neg'])\n",
    "merged['compound'] = pd.to_numeric(merged['compound'])"
   ]
  },
  {
   "cell_type": "code",
   "execution_count": 20,
   "metadata": {},
   "outputs": [
    {
     "data": {
      "text/plain": [
       "Date        datetime64[ns]\n",
       "Open               float64\n",
       "High               float64\n",
       "Low                float64\n",
       "Close              float64\n",
       "Volume             float64\n",
       "compound           float64\n",
       "neg                float64\n",
       "neu                float64\n",
       "pos                float64\n",
       "dtype: object"
      ]
     },
     "execution_count": 20,
     "metadata": {},
     "output_type": "execute_result"
    }
   ],
   "source": [
    "merged.dtypes"
   ]
  },
  {
   "cell_type": "code",
   "execution_count": 22,
   "metadata": {},
   "outputs": [
    {
     "data": {
      "text/html": [
       "<div>\n",
       "<style scoped>\n",
       "    .dataframe tbody tr th:only-of-type {\n",
       "        vertical-align: middle;\n",
       "    }\n",
       "\n",
       "    .dataframe tbody tr th {\n",
       "        vertical-align: top;\n",
       "    }\n",
       "\n",
       "    .dataframe thead th {\n",
       "        text-align: right;\n",
       "    }\n",
       "</style>\n",
       "<table border=\"1\" class=\"dataframe\">\n",
       "  <thead>\n",
       "    <tr style=\"text-align: right;\">\n",
       "      <th></th>\n",
       "      <th>Date</th>\n",
       "      <th>Open</th>\n",
       "      <th>High</th>\n",
       "      <th>Low</th>\n",
       "      <th>Close</th>\n",
       "      <th>Volume</th>\n",
       "      <th>compound</th>\n",
       "      <th>neg</th>\n",
       "      <th>neu</th>\n",
       "      <th>pos</th>\n",
       "    </tr>\n",
       "  </thead>\n",
       "  <tbody>\n",
       "    <tr>\n",
       "      <td>14582</td>\n",
       "      <td>2019-12-05</td>\n",
       "      <td>132.990005</td>\n",
       "      <td>133.240005</td>\n",
       "      <td>131.630005</td>\n",
       "      <td>131.910004</td>\n",
       "      <td>3595400.0</td>\n",
       "      <td>0.3983</td>\n",
       "      <td>0.057</td>\n",
       "      <td>0.813</td>\n",
       "      <td>0.130</td>\n",
       "    </tr>\n",
       "    <tr>\n",
       "      <td>14583</td>\n",
       "      <td>2019-12-06</td>\n",
       "      <td>132.750000</td>\n",
       "      <td>133.889999</td>\n",
       "      <td>132.699997</td>\n",
       "      <td>133.220001</td>\n",
       "      <td>3437500.0</td>\n",
       "      <td>0.9939</td>\n",
       "      <td>0.055</td>\n",
       "      <td>0.607</td>\n",
       "      <td>0.338</td>\n",
       "    </tr>\n",
       "    <tr>\n",
       "      <td>14584</td>\n",
       "      <td>2019-12-09</td>\n",
       "      <td>133.350006</td>\n",
       "      <td>134.589996</td>\n",
       "      <td>133.259995</td>\n",
       "      <td>133.919998</td>\n",
       "      <td>2968500.0</td>\n",
       "      <td>0.9955</td>\n",
       "      <td>0.000</td>\n",
       "      <td>0.620</td>\n",
       "      <td>0.380</td>\n",
       "    </tr>\n",
       "    <tr>\n",
       "      <td>14585</td>\n",
       "      <td>2019-12-10</td>\n",
       "      <td>133.919998</td>\n",
       "      <td>134.839996</td>\n",
       "      <td>133.559998</td>\n",
       "      <td>133.910004</td>\n",
       "      <td>3480400.0</td>\n",
       "      <td>0.9183</td>\n",
       "      <td>0.000</td>\n",
       "      <td>0.791</td>\n",
       "      <td>0.209</td>\n",
       "    </tr>\n",
       "    <tr>\n",
       "      <td>14586</td>\n",
       "      <td>2019-12-11</td>\n",
       "      <td>134.110001</td>\n",
       "      <td>134.509995</td>\n",
       "      <td>133.669998</td>\n",
       "      <td>133.759995</td>\n",
       "      <td>3953300.0</td>\n",
       "      <td>0.9508</td>\n",
       "      <td>0.037</td>\n",
       "      <td>0.706</td>\n",
       "      <td>0.257</td>\n",
       "    </tr>\n",
       "  </tbody>\n",
       "</table>\n",
       "</div>"
      ],
      "text/plain": [
       "            Date        Open        High         Low       Close     Volume  compound    neg    neu    pos\n",
       "14582 2019-12-05  132.990005  133.240005  131.630005  131.910004  3595400.0    0.3983  0.057  0.813  0.130\n",
       "14583 2019-12-06  132.750000  133.889999  132.699997  133.220001  3437500.0    0.9939  0.055  0.607  0.338\n",
       "14584 2019-12-09  133.350006  134.589996  133.259995  133.919998  2968500.0    0.9955  0.000  0.620  0.380\n",
       "14585 2019-12-10  133.919998  134.839996  133.559998  133.910004  3480400.0    0.9183  0.000  0.791  0.209\n",
       "14586 2019-12-11  134.110001  134.509995  133.669998  133.759995  3953300.0    0.9508  0.037  0.706  0.257"
      ]
     },
     "execution_count": 22,
     "metadata": {},
     "output_type": "execute_result"
    }
   ],
   "source": [
    "merged.tail()"
   ]
  },
  {
   "cell_type": "code",
   "execution_count": 23,
   "metadata": {},
   "outputs": [],
   "source": [
    "# exporting data to csv file\n",
    "merged.to_csv('ml_data.csv',index=False)"
   ]
  },
  {
   "cell_type": "code",
   "execution_count": null,
   "metadata": {},
   "outputs": [],
   "source": []
  }
 ],
 "metadata": {
  "kernelspec": {
   "display_name": "Python 3",
   "language": "python",
   "name": "python3"
  },
  "language_info": {
   "codemirror_mode": {
    "name": "ipython",
    "version": 3
   },
   "file_extension": ".py",
   "mimetype": "text/x-python",
   "name": "python",
   "nbconvert_exporter": "python",
   "pygments_lexer": "ipython3",
   "version": "3.7.4"
  }
 },
 "nbformat": 4,
 "nbformat_minor": 2
}
