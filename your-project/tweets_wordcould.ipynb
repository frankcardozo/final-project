{
 "cells": [
  {
   "cell_type": "code",
   "execution_count": 70,
   "metadata": {},
   "outputs": [],
   "source": [
    "import pandas as pd\n",
    "from wordcloud import WordCloud\n",
    "import matplotlib.pyplot as plt"
   ]
  },
  {
   "cell_type": "code",
   "execution_count": 71,
   "metadata": {},
   "outputs": [],
   "source": [
    "import nltk\n",
    "from nltk.tokenize import word_tokenize\n",
    "from nltk.stem import PorterStemmer \n",
    "from nltk.stem.snowball import SnowballStemmer\n",
    "from nltk.stem import WordNetLemmatizer \n",
    "from nltk.probability import FreqDist\n",
    "from nltk.corpus import stopwords\n",
    "import re"
   ]
  },
  {
   "cell_type": "code",
   "execution_count": 89,
   "metadata": {},
   "outputs": [
    {
     "data": {
      "text/html": [
       "<div>\n",
       "<style scoped>\n",
       "    .dataframe tbody tr th:only-of-type {\n",
       "        vertical-align: middle;\n",
       "    }\n",
       "\n",
       "    .dataframe tbody tr th {\n",
       "        vertical-align: top;\n",
       "    }\n",
       "\n",
       "    .dataframe thead th {\n",
       "        text-align: right;\n",
       "    }\n",
       "</style>\n",
       "<table border=\"1\" class=\"dataframe\">\n",
       "  <thead>\n",
       "    <tr style=\"text-align: right;\">\n",
       "      <th></th>\n",
       "      <th>Date</th>\n",
       "      <th>Tweet</th>\n",
       "      <th>Tweet_processed</th>\n",
       "    </tr>\n",
       "  </thead>\n",
       "  <tbody>\n",
       "    <tr>\n",
       "      <td>0</td>\n",
       "      <td>2012-01-01</td>\n",
       "      <td>Four questions that pushed IBM to stay a step ...</td>\n",
       "      <td>['four', 'question', 'push', 'ibm', 'stay', 's...</td>\n",
       "    </tr>\n",
       "    <tr>\n",
       "      <td>1</td>\n",
       "      <td>2012-01-04</td>\n",
       "      <td>Today’s Big Blue is ‘Big Open’: http://www.bus...</td>\n",
       "      <td>['today', 'big', 'blue', 'big', 'open']</td>\n",
       "    </tr>\n",
       "    <tr>\n",
       "      <td>2</td>\n",
       "      <td>2012-01-05</td>\n",
       "      <td>Good Co. Project via IBM Facebook Mid-Market p...</td>\n",
       "      <td>['good', 'co', 'project', 'via', 'ibm', 'faceb...</td>\n",
       "    </tr>\n",
       "    <tr>\n",
       "      <td>3</td>\n",
       "      <td>2012-01-06</td>\n",
       "      <td>IBM 2011 accessibility articles compiled: http...</td>\n",
       "      <td>['ibm', 'access', 'articl', 'compil']</td>\n",
       "    </tr>\n",
       "    <tr>\n",
       "      <td>4</td>\n",
       "      <td>2012-01-09</td>\n",
       "      <td>IBM social media animation from the past few y...</td>\n",
       "      <td>['ibm', 'social', 'medium', 'anim', 'past', 'y...</td>\n",
       "    </tr>\n",
       "  </tbody>\n",
       "</table>\n",
       "</div>"
      ],
      "text/plain": [
       "         Date                                              Tweet  \\\n",
       "0  2012-01-01  Four questions that pushed IBM to stay a step ...   \n",
       "1  2012-01-04  Today’s Big Blue is ‘Big Open’: http://www.bus...   \n",
       "2  2012-01-05  Good Co. Project via IBM Facebook Mid-Market p...   \n",
       "3  2012-01-06  IBM 2011 accessibility articles compiled: http...   \n",
       "4  2012-01-09  IBM social media animation from the past few y...   \n",
       "\n",
       "                                     Tweet_processed  \n",
       "0  ['four', 'question', 'push', 'ibm', 'stay', 's...  \n",
       "1            ['today', 'big', 'blue', 'big', 'open']  \n",
       "2  ['good', 'co', 'project', 'via', 'ibm', 'faceb...  \n",
       "3              ['ibm', 'access', 'articl', 'compil']  \n",
       "4  ['ibm', 'social', 'medium', 'anim', 'past', 'y...  "
      ]
     },
     "execution_count": 89,
     "metadata": {},
     "output_type": "execute_result"
    }
   ],
   "source": [
    "tweets = pd.read_csv('tweets.csv')\n",
    "tweets.head()"
   ]
  },
  {
   "cell_type": "code",
   "execution_count": 110,
   "metadata": {},
   "outputs": [],
   "source": [
    "def clean_up(s):\n",
    "    w = re.sub(r'http\\S+', ' ', s).replace(\"IBM\", \" \").replace(\"Watson\", \" \").lower()\n",
    "    w = re.sub(r\"[^a-zA-Z]\", \" \", w)\n",
    "    return w\n",
    "\n",
    "def tokenize(s):\n",
    "    w = nltk.word_tokenize(s)\n",
    "    return w   \n",
    "\n",
    "def stem_and_lemmatize(l):\n",
    "    ps = PorterStemmer()\n",
    "    lemmatizer = WordNetLemmatizer()\n",
    "    a = [lemmatizer.lemmatize(ps.stem(w)) for w in l]\n",
    "    return a\n",
    "\n",
    "def remove_stopwords(s):\n",
    "    stop_words = stopwords.words('english')\n",
    "    w = [x for x in s if x not in stop_words]\n",
    "    return w"
   ]
  },
  {
   "cell_type": "code",
   "execution_count": 111,
   "metadata": {},
   "outputs": [],
   "source": [
    "tweets['Tweet_processed'] = tweets.apply(lambda x : clean_up(x['Tweet']), axis = 1)"
   ]
  },
  {
   "cell_type": "code",
   "execution_count": 112,
   "metadata": {},
   "outputs": [],
   "source": [
    "# selecting a specific period of stock drop and filter\n",
    "tweets = tweets[(tweets['Date'] > '2015-09-01') & (tweets['Date'] < '2016-02-17')]"
   ]
  },
  {
   "cell_type": "code",
   "execution_count": 113,
   "metadata": {},
   "outputs": [
    {
     "data": {
      "text/plain": [
       "FreqDist({' ': 9475, 'e': 3543, 't': 2635, 'i': 2522, 'a': 2315, 'o': 2285, 'n': 2248, 's': 2079, 'r': 1948, 'h': 1256, ...})"
      ]
     },
     "execution_count": 113,
     "metadata": {},
     "output_type": "execute_result"
    }
   ],
   "source": [
    "words = [w for l in tweets['Tweet_processed'] for w in l]\n",
    "fdist = FreqDist(words)\n",
    "fdist"
   ]
  },
  {
   "cell_type": "code",
   "execution_count": 114,
   "metadata": {},
   "outputs": [
    {
     "data": {
      "text/html": [
       "<div>\n",
       "<style scoped>\n",
       "    .dataframe tbody tr th:only-of-type {\n",
       "        vertical-align: middle;\n",
       "    }\n",
       "\n",
       "    .dataframe tbody tr th {\n",
       "        vertical-align: top;\n",
       "    }\n",
       "\n",
       "    .dataframe thead th {\n",
       "        text-align: right;\n",
       "    }\n",
       "</style>\n",
       "<table border=\"1\" class=\"dataframe\">\n",
       "  <thead>\n",
       "    <tr style=\"text-align: right;\">\n",
       "      <th></th>\n",
       "      <th>Date</th>\n",
       "      <th>Tweet</th>\n",
       "      <th>Tweet_processed</th>\n",
       "    </tr>\n",
       "  </thead>\n",
       "  <tbody>\n",
       "    <tr>\n",
       "      <td>982</td>\n",
       "      <td>2015-09-02</td>\n",
       "      <td>See what's new from @IBM for this year's #USOp...</td>\n",
       "      <td>see what s new from    for this year s  usopen...</td>\n",
       "    </tr>\n",
       "    <tr>\n",
       "      <td>983</td>\n",
       "      <td>2015-09-03</td>\n",
       "      <td>What can your cloud really do? Learn more abou...</td>\n",
       "      <td>what can your cloud really do  learn more abou...</td>\n",
       "    </tr>\n",
       "    <tr>\n",
       "      <td>984</td>\n",
       "      <td>2015-09-04</td>\n",
       "      <td>See what's new from @IBM for this year's #USOp...</td>\n",
       "      <td>see what s new from    for this year s  usopen...</td>\n",
       "    </tr>\n",
       "    <tr>\n",
       "      <td>985</td>\n",
       "      <td>2015-09-05</td>\n",
       "      <td>.@IBMWatson is helping us all live, work and l...</td>\n",
       "      <td>is helping us all live  work and learn be...</td>\n",
       "    </tr>\n",
       "    <tr>\n",
       "      <td>986</td>\n",
       "      <td>2015-09-06</td>\n",
       "      <td>What do tennis balls and yellow cabs have in c...</td>\n",
       "      <td>what do tennis balls and yellow cabs have in c...</td>\n",
       "    </tr>\n",
       "  </tbody>\n",
       "</table>\n",
       "</div>"
      ],
      "text/plain": [
       "           Date                                              Tweet  \\\n",
       "982  2015-09-02  See what's new from @IBM for this year's #USOp...   \n",
       "983  2015-09-03  What can your cloud really do? Learn more abou...   \n",
       "984  2015-09-04  See what's new from @IBM for this year's #USOp...   \n",
       "985  2015-09-05  .@IBMWatson is helping us all live, work and l...   \n",
       "986  2015-09-06  What do tennis balls and yellow cabs have in c...   \n",
       "\n",
       "                                       Tweet_processed  \n",
       "982  see what s new from    for this year s  usopen...  \n",
       "983  what can your cloud really do  learn more abou...  \n",
       "984  see what s new from    for this year s  usopen...  \n",
       "985       is helping us all live  work and learn be...  \n",
       "986  what do tennis balls and yellow cabs have in c...  "
      ]
     },
     "execution_count": 114,
     "metadata": {},
     "output_type": "execute_result"
    }
   ],
   "source": [
    "tweets.head()"
   ]
  },
  {
   "cell_type": "code",
   "execution_count": 116,
   "metadata": {},
   "outputs": [],
   "source": [
    "from PIL import Image\n",
    "import numpy as np\n",
    "\n",
    "img = np.array(Image.open('ibm_logo.png'))"
   ]
  },
  {
   "cell_type": "code",
   "execution_count": 171,
   "metadata": {},
   "outputs": [],
   "source": [
    "wordcloud2 = WordCloud(width=1200, height=600, max_words= 300,color_func=lambda *args, **kwargs: \"#132d7d\", mode='RGBA', background_color='rgba(255, 255, 255, 0)').generate(''.join(tweets['Tweet_processed']))"
   ]
  },
  {
   "cell_type": "code",
   "execution_count": 172,
   "metadata": {},
   "outputs": [
    {
     "data": {
      "image/png": "[encoded data removed]",
      "text/plain": [
       "<Figure size 432x288 with 1 Axes>"
      ]
     },
     "metadata": {
      "needs_background": "light"
     },
     "output_type": "display_data"
    }
   ],
   "source": [
    "plt.imshow(wordcloud2)# interpolation=\"bilinear\")\n",
    "plt.axis(\"off\")\n",
    "#plt.imshow(img, cmap=plt.cm.gray, interpolation='bilinear')\n",
    "plt.savefig('word_could.jpg', transparent = True, bbox_inches = 'tight', dpi=480)\n",
    "\n",
    "plt.show()"
   ]
  },
  {
   "cell_type": "code",
   "execution_count": null,
   "metadata": {},
   "outputs": [],
   "source": []
  }
 ],
 "metadata": {
  "kernelspec": {
   "display_name": "Python 3",
   "language": "python",
   "name": "python3"
  },
  "language_info": {
   "codemirror_mode": {
    "name": "ipython",
    "version": 3
   },
   "file_extension": ".py",
   "mimetype": "text/x-python",
   "name": "python",
   "nbconvert_exporter": "python",
   "pygments_lexer": "ipython3",
   "version": "3.7.4"
  }
 },
 "nbformat": 4,
 "nbformat_minor": 2
}
